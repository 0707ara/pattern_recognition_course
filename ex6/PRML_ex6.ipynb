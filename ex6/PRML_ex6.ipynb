{
 "cells": [
  {
   "cell_type": "code",
   "execution_count": null,
   "metadata": {
    "colab": {
     "base_uri": "https://localhost:8080/"
    },
    "id": "iugt3cin0jXD",
    "outputId": "90583627-9fd5-4ee3-d78f-6406a20f0a92"
   },
   "outputs": [
    {
     "name": "stdout",
     "output_type": "stream",
     "text": [
      "Mounted at /content/drive\n"
     ]
    }
   ],
   "source": [
    "## Mounting Google drive at colab\n",
    "from google.colab import drive\n",
    "drive.mount('/content/drive')\n",
    "\n",
    "## Path where \n",
    "path1='/content/drive/MyDrive/Colab Notebooks/GTSRB_subset_2/class1'\n",
    "path2='/content/drive/MyDrive/Colab Notebooks/GTSRB_subset_2/class2'"
   ]
  },
  {
   "cell_type": "code",
   "execution_count": null,
   "metadata": {
    "id": "otC5lvohmyMN"
   },
   "outputs": [],
   "source": [
    "import glob\n",
    "import cv2\n",
    "# glob returns the path of each image file.\n",
    "files1 = glob.glob(\"/content/drive/MyDrive/Colab Notebooks/GTSRB_subset_2/class1/*.jpg\")\n",
    "files1 = sorted(files1)\n",
    "\n",
    "\n",
    "files2 = glob.glob(\"/content/drive/MyDrive/Colab Notebooks/GTSRB_subset_2/class2/*.jpg\")\n",
    "files2 = sorted(files2)\n",
    "\n",
    "# Image will be stored at cv_img\n",
    "# Image has been transformed to greyscale. \n",
    "class1 = []\n",
    "class2 = []\n",
    "\n",
    "for img in files1:\n",
    "    n= cv2.imread(img)\n",
    "    class1.append(n)\n",
    "    #class1.append(cv2.cvtColor(n, cv2.COLOR_BGR2GRAY))\n",
    "\n",
    "for img in files2:\n",
    "    n= cv2.imread(img)\n",
    "    class2.append(n)\n",
    "    #class2.append(cv2.cvtColor(n, cv2.COLOR_BGR2GRAY))"
   ]
  },
  {
   "cell_type": "code",
   "execution_count": null,
   "metadata": {
    "colab": {
     "base_uri": "https://localhost:8080/"
    },
    "id": "ug8KLsfx46TP",
    "outputId": "7759fd3d-d0d4-4fab-cc3b-bade5936394d"
   },
   "outputs": [
    {
     "name": "stdout",
     "output_type": "stream",
     "text": [
      "660 660 450 210\n",
      "train and test set 528 528 132 132 (528, 1) (132, 1)\n"
     ]
    }
   ],
   "source": [
    "import sklearn\n",
    "from sklearn.model_selection import train_test_split\n",
    "import tensorflow as tf\n",
    "import numpy as np\n",
    "from tensorflow import keras\n",
    "from tensorflow.keras import layers\n",
    "import keras.optimizers\n",
    "from tensorflow.keras.models import Sequential\n",
    "from tensorflow.keras.layers import Dense\n",
    "import matplotlib.pyplot as plt\n",
    "\n",
    "\n",
    "y1 = np.zeros(len(class1), dtype= np.int8)\n",
    "y2 = np.ones(len(class2), dtype= np.int8)\n",
    "y3 = np.concatenate([y1, y2])\n",
    "x3 = np.concatenate([class1, class2])\n",
    "\n",
    "train_len = int(len(x3) * 0.8)\n",
    "train_x, test_x, train_y, test_y  = train_test_split(x3, y3, train_size=train_len, shuffle=True, stratify=y3)\n",
    "train_y = np.asarray(train_y).astype('float32').reshape((-1,1))\n",
    "test_y = np.asarray(test_y).astype('float32').reshape((-1,1))\n",
    "\n",
    "print(len(x3), len(x3),len(y1) ,len(y2))\n",
    "print('train and test set',len(train_x), len(train_y),len(test_x), len(test_y), train_y.shape, test_y.shape)"
   ]
  },
  {
   "cell_type": "code",
   "execution_count": null,
   "metadata": {
    "colab": {
     "base_uri": "https://localhost:8080/"
    },
    "id": "RM_gODBuTE_w",
    "outputId": "efd15239-2f6a-4033-ca70-5b54536b4d93"
   },
   "outputs": [
    {
     "name": "stdout",
     "output_type": "stream",
     "text": [
      "Model: \"sequential_8\"\n",
      "_________________________________________________________________\n",
      " Layer (type)                Output Shape              Param #   \n",
      "=================================================================\n",
      " conv2d_16 (Conv2D)          (None, 31, 31, 10)        280       \n",
      "                                                                 \n",
      " max_pooling2d_16 (MaxPoolin  (None, 15, 15, 10)       0         \n",
      " g2D)                                                            \n",
      "                                                                 \n",
      " conv2d_17 (Conv2D)          (None, 7, 7, 10)          910       \n",
      "                                                                 \n",
      " max_pooling2d_17 (MaxPoolin  (None, 3, 3, 10)         0         \n",
      " g2D)                                                            \n",
      "                                                                 \n",
      " flatten_8 (Flatten)         (None, 90)                0         \n",
      "                                                                 \n",
      " dense_8 (Dense)             (None, 1)                 91        \n",
      "                                                                 \n",
      "=================================================================\n",
      "Total params: 1,281\n",
      "Trainable params: 1,281\n",
      "Non-trainable params: 0\n",
      "_________________________________________________________________\n"
     ]
    }
   ],
   "source": [
    "# https://pyimagesearch.com/2018/12/31/keras-conv2d-and-convolutional-layers/\n",
    "\n",
    "model = Sequential()\n",
    "model.add(keras.Input(shape=(64, 64, 3) ))\n",
    "\n",
    "model.add(layers.Conv2D(10, (3,3), strides=2, activation=\"relu\"))\n",
    "model.add(layers.MaxPooling2D(pool_size=(2, 2), strides=None, padding=\"valid\", input_shape=( 31, 31, 10) ))\n",
    "\n",
    "model.add(layers.Conv2D(10, (3,3), strides=2, activation=\"relu\"))\n",
    "model.add(layers.MaxPooling2D(pool_size=(2, 2), strides=None, padding=\"valid\", input_shape=(7, 7, 10)) )\n",
    "\n",
    "model.add(layers.Flatten())\n",
    "\n",
    "model.add(Dense(1, activation='sigmoid'))\n",
    "model.summary()\n",
    "\n"
   ]
  },
  {
   "cell_type": "code",
   "execution_count": null,
   "metadata": {
    "colab": {
     "base_uri": "https://localhost:8080/",
     "height": 973
    },
    "id": "9_Hc7dAM1IM3",
    "outputId": "6fd9dc21-3dd1-46fd-b77f-cc31c127e0e8"
   },
   "outputs": [
    {
     "name": "stdout",
     "output_type": "stream",
     "text": [
      "Epoch 1/20\n",
      "17/17 [==============================] - 1s 16ms/step - loss: 576553.5625 - mse: 0.3068 - accuracy: 0.6515\n",
      "Epoch 2/20\n",
      "17/17 [==============================] - 0s 16ms/step - loss: 0.6654 - mse: 0.2362 - accuracy: 0.6818\n",
      "Epoch 3/20\n",
      "17/17 [==============================] - 0s 17ms/step - loss: 0.6519 - mse: 0.2295 - accuracy: 0.6818\n",
      "Epoch 4/20\n",
      "17/17 [==============================] - 0s 16ms/step - loss: 0.6434 - mse: 0.2254 - accuracy: 0.6818\n",
      "Epoch 5/20\n",
      "17/17 [==============================] - 0s 16ms/step - loss: 0.6376 - mse: 0.2226 - accuracy: 0.6818\n",
      "Epoch 6/20\n",
      "17/17 [==============================] - 0s 15ms/step - loss: 0.6335 - mse: 0.2206 - accuracy: 0.6818\n",
      "Epoch 7/20\n",
      "17/17 [==============================] - 0s 17ms/step - loss: 0.6310 - mse: 0.2195 - accuracy: 0.6818\n",
      "Epoch 8/20\n",
      "17/17 [==============================] - 0s 15ms/step - loss: 0.6292 - mse: 0.2186 - accuracy: 0.6818\n",
      "Epoch 9/20\n",
      "17/17 [==============================] - 0s 16ms/step - loss: 0.6280 - mse: 0.2181 - accuracy: 0.6818\n",
      "Epoch 10/20\n",
      "17/17 [==============================] - 0s 16ms/step - loss: 0.6272 - mse: 0.2177 - accuracy: 0.6818\n",
      "Epoch 11/20\n",
      "17/17 [==============================] - 0s 17ms/step - loss: 0.6267 - mse: 0.2175 - accuracy: 0.6818\n",
      "Epoch 12/20\n",
      "17/17 [==============================] - 0s 16ms/step - loss: 0.6264 - mse: 0.2173 - accuracy: 0.6818\n",
      "Epoch 13/20\n",
      "17/17 [==============================] - 0s 16ms/step - loss: 0.6261 - mse: 0.2172 - accuracy: 0.6818\n",
      "Epoch 14/20\n",
      "17/17 [==============================] - 0s 15ms/step - loss: 0.6260 - mse: 0.2172 - accuracy: 0.6818\n",
      "Epoch 15/20\n",
      "17/17 [==============================] - 0s 16ms/step - loss: 0.6258 - mse: 0.2171 - accuracy: 0.6818\n",
      "Epoch 16/20\n",
      "17/17 [==============================] - 0s 16ms/step - loss: 0.6258 - mse: 0.2171 - accuracy: 0.6818\n",
      "Epoch 17/20\n",
      "17/17 [==============================] - 0s 16ms/step - loss: 0.6257 - mse: 0.2171 - accuracy: 0.6818\n",
      "Epoch 18/20\n",
      "17/17 [==============================] - 0s 16ms/step - loss: 0.6257 - mse: 0.2170 - accuracy: 0.6818\n",
      "Epoch 19/20\n",
      "17/17 [==============================] - 0s 15ms/step - loss: 0.6257 - mse: 0.2170 - accuracy: 0.6818\n",
      "Epoch 20/20\n",
      "17/17 [==============================] - 0s 15ms/step - loss: 0.6257 - mse: 0.2170 - accuracy: 0.6818\n"
     ]
    },
    {
     "data": {
      "image/png": "[encoded data removed]",
      "text/plain": [
       "<Figure size 432x288 with 1 Axes>"
      ]
     },
     "metadata": {
      "needs_background": "light"
     },
     "output_type": "display_data"
    }
   ],
   "source": [
    "opt = tf.keras.optimizers.SGD(learning_rate=0.05)\n",
    "model.compile(optimizer=opt, loss=tf.keras.losses.BinaryCrossentropy(), metrics=['mse','accuracy'])\n",
    "num_of_epochs = 20\n",
    "\n",
    "tr_hist = model.fit(train_x, train_y, epochs=num_of_epochs, verbose=1,batch_size=32)\n",
    "\n",
    "plt.plot(tr_hist.history['accuracy'])\n",
    "plt.ylabel('accuracy')\n",
    "plt.xlabel('epoch')\n",
    "#plt.legend(['opetus'], loc='upper right')\n",
    "plt.show()"
   ]
  },
  {
   "cell_type": "code",
   "execution_count": null,
   "metadata": {
    "colab": {
     "base_uri": "https://localhost:8080/"
    },
    "id": "NaZzflG3AhPl",
    "outputId": "1305a209-9fd5-4dbd-f8f5-c51a91d6e2bd"
   },
   "outputs": [
    {
     "name": "stdout",
     "output_type": "stream",
     "text": [
      "5/5 [==============================] - 0s 7ms/step - loss: 0.6256 - mse: 0.2170 - accuracy: 0.6818\n"
     ]
    },
    {
     "data": {
      "text/plain": [
       "[0.6255534887313843, 0.21696925163269043, 0.6818181872367859]"
      ]
     },
     "execution_count": 27,
     "metadata": {},
     "output_type": "execute_result"
    }
   ],
   "source": [
    "prediction = model.predict(test_x)\n",
    "model.evaluate(test_x, y = test_y,verbose=1)\n",
    "# Training set accuracy is 0.6818\n",
    "# Test set accuracy is 0.6818"
   ]
  },
  {
   "cell_type": "code",
   "execution_count": null,
   "metadata": {
    "colab": {
     "base_uri": "https://localhost:8080/",
     "height": 281
    },
    "id": "LqUSuvE__lsA",
    "outputId": "26c0a1e2-03be-46cf-af48-6da2b3ff36ae"
   },
   "outputs": [
    {
     "data": {
      "image/png": "[encoded data removed]",
      "text/plain": [
       "<Figure size 432x288 with 1 Axes>"
      ]
     },
     "metadata": {
      "needs_background": "light"
     },
     "output_type": "display_data"
    }
   ],
   "source": [
    "plt.plot(tr_hist.history['loss'])\n",
    "plt.ylabel('loss')\n",
    "plt.xlabel('epoch')\n",
    "#plt.legend(['opetus'], loc='upper right')\n",
    "plt.show()"
   ]
  },
  {
   "cell_type": "code",
   "execution_count": null,
   "metadata": {
    "colab": {
     "base_uri": "https://localhost:8080/",
     "height": 279
    },
    "id": "8Ya2uJzZ_na0",
    "outputId": "b00fbfb0-238c-4032-bfe8-d6b72ff7ee79"
   },
   "outputs": [
    {
     "data": {
      "image/png": "[encoded data removed]",
      "text/plain": [
       "<Figure size 432x288 with 1 Axes>"
      ]
     },
     "metadata": {
      "needs_background": "light"
     },
     "output_type": "display_data"
    }
   ],
   "source": [
    "plt.plot(tr_hist.history['accuracy'])\n",
    "plt.ylabel('accuracy')\n",
    "plt.xlabel('epoch')\n",
    "#plt.legend(['opetus'], loc='upper right')\n",
    "plt.show()"
   ]
  }
 ],
 "metadata": {
  "colab": {
   "collapsed_sections": [],
   "name": "PRML_ex6",
   "provenance": []
  },
  "kernelspec": {
   "display_name": "Python 3 (ipykernel)",
   "language": "python",
   "name": "python3"
  },
  "language_info": {
   "codemirror_mode": {
    "name": "ipython",
    "version": 3
   },
   "file_extension": ".py",
   "mimetype": "text/x-python",
   "name": "python",
   "nbconvert_exporter": "python",
   "pygments_lexer": "ipython3",
   "version": "3.9.7"
  }
 },
 "nbformat": 4,
 "nbformat_minor": 1
}
